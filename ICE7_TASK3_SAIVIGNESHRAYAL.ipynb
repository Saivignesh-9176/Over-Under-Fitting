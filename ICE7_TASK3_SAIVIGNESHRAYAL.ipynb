{
  "nbformat": 4,
  "nbformat_minor": 0,
  "metadata": {
    "colab": {
      "provenance": []
    },
    "kernelspec": {
      "name": "python3",
      "display_name": "Python 3"
    },
    "language_info": {
      "name": "python"
    }
  },
  "cells": [
    {
      "cell_type": "markdown",
      "source": [
        "#LEAVE P OUT (LPO)"
      ],
      "metadata": {
        "id": "Bn49mY9spiP0"
      }
    },
    {
      "cell_type": "code",
      "execution_count": 2,
      "metadata": {
        "colab": {
          "base_uri": "https://localhost:8080/"
        },
        "id": "03paI3nOoOWd",
        "outputId": "14f32f80-8521-43af-c281-451b2337f9e6"
      },
      "outputs": [
        {
          "output_type": "stream",
          "name": "stdout",
          "text": [
            "[2 3] [0 1]\n",
            "[1 3] [0 2]\n",
            "[1 2] [0 3]\n",
            "[0 3] [1 2]\n",
            "[0 2] [1 3]\n",
            "[0 1] [2 3]\n"
          ]
        }
      ],
      "source": [
        "import numpy as np\n",
        "from sklearn.model_selection import LeavePOut\n",
        "\n",
        "X = np.ones(4)\n",
        "lpo = LeavePOut(p=2)\n",
        "for train, test in lpo.split(X):\n",
        "     print(\"%s %s\" % (train, test))"
      ]
    },
    {
      "cell_type": "markdown",
      "source": [
        "#Group K-Fold"
      ],
      "metadata": {
        "id": "S-1IqxKrpwUI"
      }
    },
    {
      "cell_type": "code",
      "source": [
        "from sklearn.model_selection import GroupKFold\n",
        "\n",
        "X = [0.1, 0.2, 2.2, 2.4, 2.3, 4.55, 5.8, 8.8, 9, 10]\n",
        "y = [\"a\", \"b\", \"b\", \"b\", \"c\", \"c\", \"c\", \"d\", \"d\", \"d\"]\n",
        "groups = [1, 1, 1, 2, 2, 2, 3, 3, 3, 3]\n",
        "\n",
        "gkf = GroupKFold(n_splits=3)\n",
        "for train, test in gkf.split(X, y, groups=groups):\n",
        "     print(\"%s %s\" % (train, test))"
      ],
      "metadata": {
        "colab": {
          "base_uri": "https://localhost:8080/"
        },
        "id": "fzQya4Vmotft",
        "outputId": "96f7cce4-6a15-46fa-ed96-532b1edf7a95"
      },
      "execution_count": 3,
      "outputs": [
        {
          "output_type": "stream",
          "name": "stdout",
          "text": [
            "[0 1 2 3 4 5] [6 7 8 9]\n",
            "[0 1 2 6 7 8 9] [3 4 5]\n",
            "[3 4 5 6 7 8 9] [0 1 2]\n"
          ]
        }
      ]
    },
    {
      "cell_type": "markdown",
      "source": [
        "#Random permutations cross-validation a.k.a. Shuffle & Split"
      ],
      "metadata": {
        "id": "aUlj2p6zp-Bw"
      }
    },
    {
      "cell_type": "code",
      "source": [
        "from sklearn.model_selection import ShuffleSplit\n",
        "X = np.arange(10)\n",
        "ss = ShuffleSplit(n_splits=5, test_size=0.25, random_state=0)\n",
        "for train_index, test_index in ss.split(X):\n",
        "     print(\"%s %s\" % (train_index, test_index))"
      ],
      "metadata": {
        "colab": {
          "base_uri": "https://localhost:8080/"
        },
        "id": "qSSAFy6So24y",
        "outputId": "aefb659b-395e-4c12-d97a-1194d4a3afa6"
      },
      "execution_count": 4,
      "outputs": [
        {
          "output_type": "stream",
          "name": "stdout",
          "text": [
            "[9 1 6 7 3 0 5] [2 8 4]\n",
            "[2 9 8 0 6 7 4] [3 5 1]\n",
            "[4 5 1 0 6 9 7] [2 3 8]\n",
            "[2 7 5 8 0 3 4] [6 1 9]\n",
            "[4 1 0 6 8 9 3] [5 2 7]\n"
          ]
        }
      ]
    },
    {
      "cell_type": "markdown",
      "source": [
        "#Leave One Group Out"
      ],
      "metadata": {
        "id": "WoBpl8fqqO2u"
      }
    },
    {
      "cell_type": "code",
      "source": [
        "from sklearn.model_selection import LeaveOneGroupOut\n",
        "\n",
        "X = np.array([1, 5, 10, 50, 60, 70, 80])\n",
        "y = [0, 1, 1, 2, 2, 2, 2]\n",
        "groups = [1, 1, 2, 2, 3, 3, 3]\n",
        "logo = LeaveOneGroupOut()\n",
        "for train, test in logo.split(X, y, groups=groups):\n",
        "     print(\"%s %s\" % (train, test))"
      ],
      "metadata": {
        "colab": {
          "base_uri": "https://localhost:8080/"
        },
        "id": "pJQJ87pHo-cZ",
        "outputId": "b18ede58-94a3-4c4b-a20d-24f7a572c6a1"
      },
      "execution_count": 5,
      "outputs": [
        {
          "output_type": "stream",
          "name": "stdout",
          "text": [
            "[2 3 4 5 6] [0 1]\n",
            "[0 1 4 5 6] [2 3]\n",
            "[0 1 2 3] [4 5 6]\n"
          ]
        }
      ]
    }
  ]
}